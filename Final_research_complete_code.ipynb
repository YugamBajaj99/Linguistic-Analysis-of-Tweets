{
 "cells": [
  {
   "cell_type": "code",
   "execution_count": 3884,
   "metadata": {},
   "outputs": [
    {
     "name": "stderr",
     "output_type": "stream",
     "text": [
      "[nltk_data] Downloading package punkt to\n",
      "[nltk_data]     C:\\Users\\kooly\\AppData\\Roaming\\nltk_data...\n",
      "[nltk_data]   Package punkt is already up-to-date!\n",
      "[nltk_data] Downloading package stopwords to\n",
      "[nltk_data]     C:\\Users\\kooly\\AppData\\Roaming\\nltk_data...\n",
      "[nltk_data]   Package stopwords is already up-to-date!\n"
     ]
    }
   ],
   "source": [
    "import tweepy\n",
    "import pandas as pd\n",
    "from tweepy import OAuthHandler\n",
    "from nltk.tokenize import sent_tokenize\n",
    "import nltk\n",
    "nltk.download('punkt')\n",
    "from nltk.tokenize import word_tokenize\n",
    "import re\n",
    "import string\n",
    "from nltk.tokenize import regexp_tokenize, wordpunct_tokenize, blankline_tokenize\n",
    "import nltk\n",
    "nltk.download('stopwords')\n",
    "import csv\n",
    "import sys"
   ]
  },
  {
   "cell_type": "code",
   "execution_count": 3885,
   "metadata": {},
   "outputs": [],
   "source": [
    "access_token = #Blinded\n",
    "access_token_secret = #Blinded\n",
    "consumer_key = #Blinded\n",
    "consumer_secret = #Blinded"
   ]
  },
  {
   "cell_type": "code",
   "execution_count": 3886,
   "metadata": {},
   "outputs": [],
   "source": [
    "auth = tweepy.auth.OAuthHandler(consumer_key, consumer_secret)\n",
    "auth.set_access_token(access_token, access_token_secret)\n",
    "api = tweepy.API(auth)\n",
    "fetched_tweets = api.search(q =[''], result_type='recent', lang='en', count=100)\n",
    "txt = \"\""
   ]
  },
  {
   "cell_type": "code",
   "execution_count": 3887,
   "metadata": {},
   "outputs": [],
   "source": [
    "def remove_punctuation(text):\n",
    "    words = word_tokenize(text)\n",
    "    pun_removed = [w for w in words if w.lower() not in string.punctuation]\n",
    "    return \" \".join(pun_removed)"
   ]
  },
  {
   "cell_type": "code",
   "execution_count": 3888,
   "metadata": {},
   "outputs": [],
   "source": [
    "def remove_stopwords(text, lang='english'):\n",
    "    words = word_tokenize(text)\n",
    "    stopw = stopwords.words(lang)\n",
    "    stopw_removed = [word for word in words if word.lower() not in stopw]\n",
    "    return \" \".join(stopw_removed)"
   ]
  },
  {
   "cell_type": "code",
   "execution_count": 3889,
   "metadata": {},
   "outputs": [
    {
     "name": "stdout",
     "output_type": "stream",
     "text": [
      "101\n"
     ]
    }
   ],
   "source": [
    "x=1\n",
    "for tweet in fetched_tweets:\n",
    "    w= tweet.text\n",
    "    x+=1\n",
    "    txt = \" \".join((txt,w)) \n",
    "print(x)    "
   ]
  },
  {
   "cell_type": "code",
   "execution_count": 3890,
   "metadata": {},
   "outputs": [
    {
     "data": {
      "text/plain": [
       "9468"
      ]
     },
     "execution_count": 3890,
     "metadata": {},
     "output_type": "execute_result"
    }
   ],
   "source": [
    "tw =len(txt)\n",
    "tw"
   ]
  },
  {
   "cell_type": "code",
   "execution_count": 3891,
   "metadata": {},
   "outputs": [],
   "source": [
    "txt = re.sub(r\"http\\S+\", \"\", txt)\n",
    "txt = re.sub(r\"@\\S+\",\"\",txt)"
   ]
  },
  {
   "cell_type": "code",
   "execution_count": 3892,
   "metadata": {},
   "outputs": [],
   "source": [
    "from nltk.corpus import stopwords\n",
    "txt = remove_punctuation(txt)\n",
    "txt = re.sub(r'\\d+',\"\",txt)\n",
    "txt = remove_stopwords(txt)"
   ]
  },
  {
   "cell_type": "code",
   "execution_count": 3893,
   "metadata": {},
   "outputs": [],
   "source": [
    "file = \"english_word_dataset.csv\""
   ]
  },
  {
   "cell_type": "code",
   "execution_count": 3894,
   "metadata": {},
   "outputs": [],
   "source": [
    "words = regexp_tokenize(txt, pattern='\\w+')"
   ]
  },
  {
   "cell_type": "code",
   "execution_count": 3895,
   "metadata": {},
   "outputs": [
    {
     "data": {
      "text/plain": [
       "775"
      ]
     },
     "execution_count": 3895,
     "metadata": {},
     "output_type": "execute_result"
    }
   ],
   "source": [
    "len(words)"
   ]
  },
  {
   "cell_type": "code",
   "execution_count": 3896,
   "metadata": {},
   "outputs": [],
   "source": [
    "\n",
    "def check(word):\n",
    "    crimefile = csv.reader(open(\"english_word_dataset.csv\", 'r'),delimiter=\"\\n\")\n",
    "    for line in crimefile:\n",
    "        if line[0] == word:\n",
    "            global count\n",
    "            count = count + 1\n",
    "        "
   ]
  },
  {
   "cell_type": "code",
   "execution_count": 3897,
   "metadata": {},
   "outputs": [],
   "source": [
    "count = 0\n",
    "for word in words :\n",
    "    check(word.lower()) "
   ]
  },
  {
   "cell_type": "code",
   "execution_count": 3898,
   "metadata": {},
   "outputs": [
    {
     "name": "stdout",
     "output_type": "stream",
     "text": [
      "546\n"
     ]
    }
   ],
   "source": [
    "print(count)"
   ]
  },
  {
   "cell_type": "code",
   "execution_count": 3899,
   "metadata": {},
   "outputs": [
    {
     "name": "stdout",
     "output_type": "stream",
     "text": [
      "0.704516129032258\n"
     ]
    }
   ],
   "source": [
    "ratio = count/len(words)\n",
    "print(ratio)"
   ]
  },
  {
   "cell_type": "code",
   "execution_count": 3900,
   "metadata": {},
   "outputs": [
    {
     "data": {
      "text/html": [
       "<div>\n",
       "<style scoped>\n",
       "    .dataframe tbody tr th:only-of-type {\n",
       "        vertical-align: middle;\n",
       "    }\n",
       "\n",
       "    .dataframe tbody tr th {\n",
       "        vertical-align: top;\n",
       "    }\n",
       "\n",
       "    .dataframe thead th {\n",
       "        text-align: right;\n",
       "    }\n",
       "</style>\n",
       "<table border=\"1\" class=\"dataframe\">\n",
       "  <thead>\n",
       "    <tr style=\"text-align: right;\">\n",
       "      <th></th>\n",
       "      <th>total words</th>\n",
       "      <th>Different words</th>\n",
       "      <th>Proper English words</th>\n",
       "      <th>Ratio</th>\n",
       "      <th>Tweets</th>\n",
       "    </tr>\n",
       "  </thead>\n",
       "  <tbody>\n",
       "    <tr>\n",
       "      <td>0</td>\n",
       "      <td>9468</td>\n",
       "      <td>775</td>\n",
       "      <td>546</td>\n",
       "      <td>0.704516</td>\n",
       "      <td>101</td>\n",
       "    </tr>\n",
       "  </tbody>\n",
       "</table>\n",
       "</div>"
      ],
      "text/plain": [
       "   total words  Different words  Proper English words     Ratio  Tweets\n",
       "0         9468              775                   546  0.704516     101"
      ]
     },
     "execution_count": 3900,
     "metadata": {},
     "output_type": "execute_result"
    }
   ],
   "source": [
    "d = dict()\n",
    "d ={'total words': tw, 'Different words': len(words), 'Proper English words': count,'Ratio':ratio,'Tweets':x}\n",
    "df = pd.DataFrame(d,index=[0])\n",
    "df"
   ]
  },
  {
   "cell_type": "code",
   "execution_count": 3901,
   "metadata": {},
   "outputs": [],
   "source": [
    "df.to_csv('observation.csv', mode='a', index = False, header=None)"
   ]
  }
 ],
 "metadata": {
  "kernelspec": {
   "display_name": "Python 3",
   "language": "python",
   "name": "python3"
  },
  "language_info": {
   "codemirror_mode": {
    "name": "ipython",
    "version": 3
   },
   "file_extension": ".py",
   "mimetype": "text/x-python",
   "name": "python",
   "nbconvert_exporter": "python",
   "pygments_lexer": "ipython3",
   "version": "3.7.7"
  }
 },
 "nbformat": 4,
 "nbformat_minor": 4
}
